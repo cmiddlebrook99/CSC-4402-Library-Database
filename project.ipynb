{
  "nbformat": 4,
  "nbformat_minor": 0,
  "metadata": {
    "colab": {
      "name": "project.ipynb",
      "provenance": [],
      "collapsed_sections": [],
      "include_colab_link": true
    },
    "kernelspec": {
      "name": "python3",
      "display_name": "Python 3"
    }
  },
  "cells": [
    {
      "cell_type": "markdown",
      "metadata": {
        "id": "view-in-github",
        "colab_type": "text"
      },
      "source": [
        "<a href=\"https://colab.research.google.com/github/cmiddlebrook99/CSC-4402-Library-Database/blob/master/project.ipynb\" target=\"_parent\"><img src=\"https://colab.research.google.com/assets/colab-badge.svg\" alt=\"Open In Colab\"/></a>"
      ]
    },
    {
      "cell_type": "code",
      "metadata": {
        "id": "zFXoPn6_qtA5",
        "colab_type": "code",
        "outputId": "e7b64ac0-659e-46d8-a64b-caafcbf9f060",
        "colab": {
          "base_uri": "https://localhost:8080/",
          "height": 623
        }
      },
      "source": [
        "import pandas as pd\n",
        "from sklearn.linear_model import LinearRegression\n",
        "%pylab inline\n",
        "\n",
        "spotifyURL = 'https://drive.google.com/uc?export=download&id=1MI8RC6OCINRArLjIyombcRwSJqWapn4O'\n",
        "df = pd.read_csv(spotifyURL,error_bad_lines=False)\n",
        "\n",
        "model = LinearRegression(fit_intercept= True)\n",
        "\n",
        "#X = df[[\"acousticness\", \"danceability\", \"energy\", \"instrumentalness\", \"liveness\"]].to_numpy().reshape(-1,5)\n",
        "X = df[\"key\"].to_numpy().reshape(-1,1) \n",
        "y = (df[\"danceability\"]).to_numpy().reshape(-1,1)\n",
        "\n",
        "X_train, X_test, y_train, y_test = train_test_split(X, y, test_size=0.2, random_state=0)\n",
        "model.fit(X_train, y_train)\n",
        "\n",
        "print(model.intercept_)\n",
        "print(model.coef_)\n",
        "\n",
        "y_pred = model.predict(X_test)\n",
        "print(model.predict(X_test))\n",
        "print(y_test.shape)\n",
        "print(y_pred.shape)\n",
        "\n",
        "\"\"\"df1 = df.head(25)\n",
        "df1.plot(kind='bar',figsize=(16,10))\n",
        "plt.grid(which='major', linestyle='-', linewidth='0.5', color='green')\n",
        "plt.grid(which='minor', linestyle=':', linewidth='0.5', color='black')\n",
        "plt.show()\"\"\"\n",
        "df = pd.DataFrame({'Actual': y_test.flatten(), 'Predicted': y_pred.flatten()})\n",
        "df\n"
      ],
      "execution_count": 0,
      "outputs": [
        {
          "output_type": "stream",
          "text": [
            "Populating the interactive namespace from numpy and matplotlib\n",
            "[0.42415879]\n",
            "[[0.00310239]]\n",
            "[[0.4458755 ]\n",
            " [0.44897789]\n",
            " [0.43036357]\n",
            " ...\n",
            " [0.43036357]\n",
            " [0.43036357]\n",
            " [0.42726118]]\n",
            "(26133, 1)\n",
            "(26133, 1)\n"
          ],
          "name": "stdout"
        },
        {
          "output_type": "execute_result",
          "data": {
            "text/html": [
              "<div>\n",
              "<style scoped>\n",
              "    .dataframe tbody tr th:only-of-type {\n",
              "        vertical-align: middle;\n",
              "    }\n",
              "\n",
              "    .dataframe tbody tr th {\n",
              "        vertical-align: top;\n",
              "    }\n",
              "\n",
              "    .dataframe thead th {\n",
              "        text-align: right;\n",
              "    }\n",
              "</style>\n",
              "<table border=\"1\" class=\"dataframe\">\n",
              "  <thead>\n",
              "    <tr style=\"text-align: right;\">\n",
              "      <th></th>\n",
              "      <th>Actual</th>\n",
              "      <th>Predicted</th>\n",
              "    </tr>\n",
              "  </thead>\n",
              "  <tbody>\n",
              "    <tr>\n",
              "      <th>0</th>\n",
              "      <td>0.0921</td>\n",
              "      <td>0.445876</td>\n",
              "    </tr>\n",
              "    <tr>\n",
              "      <th>1</th>\n",
              "      <td>0.0424</td>\n",
              "      <td>0.448978</td>\n",
              "    </tr>\n",
              "    <tr>\n",
              "      <th>2</th>\n",
              "      <td>0.3960</td>\n",
              "      <td>0.430364</td>\n",
              "    </tr>\n",
              "    <tr>\n",
              "      <th>3</th>\n",
              "      <td>0.1950</td>\n",
              "      <td>0.439671</td>\n",
              "    </tr>\n",
              "    <tr>\n",
              "      <th>4</th>\n",
              "      <td>0.2630</td>\n",
              "      <td>0.424159</td>\n",
              "    </tr>\n",
              "    <tr>\n",
              "      <th>...</th>\n",
              "      <td>...</td>\n",
              "      <td>...</td>\n",
              "    </tr>\n",
              "    <tr>\n",
              "      <th>26128</th>\n",
              "      <td>0.2150</td>\n",
              "      <td>0.427261</td>\n",
              "    </tr>\n",
              "    <tr>\n",
              "      <th>26129</th>\n",
              "      <td>0.7210</td>\n",
              "      <td>0.430364</td>\n",
              "    </tr>\n",
              "    <tr>\n",
              "      <th>26130</th>\n",
              "      <td>0.7590</td>\n",
              "      <td>0.430364</td>\n",
              "    </tr>\n",
              "    <tr>\n",
              "      <th>26131</th>\n",
              "      <td>0.6490</td>\n",
              "      <td>0.430364</td>\n",
              "    </tr>\n",
              "    <tr>\n",
              "      <th>26132</th>\n",
              "      <td>0.4150</td>\n",
              "      <td>0.427261</td>\n",
              "    </tr>\n",
              "  </tbody>\n",
              "</table>\n",
              "<p>26133 rows × 2 columns</p>\n",
              "</div>"
            ],
            "text/plain": [
              "       Actual  Predicted\n",
              "0      0.0921   0.445876\n",
              "1      0.0424   0.448978\n",
              "2      0.3960   0.430364\n",
              "3      0.1950   0.439671\n",
              "4      0.2630   0.424159\n",
              "...       ...        ...\n",
              "26128  0.2150   0.427261\n",
              "26129  0.7210   0.430364\n",
              "26130  0.7590   0.430364\n",
              "26131  0.6490   0.430364\n",
              "26132  0.4150   0.427261\n",
              "\n",
              "[26133 rows x 2 columns]"
            ]
          },
          "metadata": {
            "tags": []
          },
          "execution_count": 90
        }
      ]
    }
  ]
}